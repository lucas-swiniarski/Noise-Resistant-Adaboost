{
 "cells": [
  {
   "cell_type": "code",
   "execution_count": 6,
   "metadata": {
    "collapsed": false
   },
   "outputs": [],
   "source": [
    "import numpy as np\n",
    "from sklearn.preprocessing import scale\n",
    "from sklearn.tree import DecisionTreeClassifier\n",
    "import copy\n",
    "import matplotlib.pyplot as plt\n",
    "import warnings\n",
    "%matplotlib inline\n",
    "warnings.filterwarnings('ignore')"
   ]
  },
  {
   "cell_type": "code",
   "execution_count": 7,
   "metadata": {
    "collapsed": false
   },
   "outputs": [
    {
     "name": "stdout",
     "output_type": "stream",
     "text": [
      "(3450, 56) (1150, 56)\n"
     ]
    }
   ],
   "source": [
    "\"\"\"\n",
    "Parse the input file, return a list [ list of features ] and list of labels : 1 or -1 \n",
    "\"\"\"\n",
    "\n",
    "def parseFile(file_name):\n",
    "    features = []\n",
    "    labels = []\n",
    "    f = open(file_name, 'r')\n",
    "    number_columns = len(f.readline().split(\",\"))\n",
    "    c = 0\n",
    "    for line in f:\n",
    "        c += 1\n",
    "        array_row = line.split(\",\")\n",
    "        x = []\n",
    "        \n",
    "        for i in range(number_columns - 2):\n",
    "            x += [float(array_row[i])]        \n",
    "        features += [x]\n",
    "        if int(array_row[number_columns - 1]) == 0:\n",
    "            labels += [-1] \n",
    "        else:\n",
    "            labels += [1]\n",
    "        \n",
    "    return features, labels\n",
    "\n",
    "features, labels = parseFile(\"spambase.data.shuffled\")\n",
    "features = scale(np.array(features))\n",
    "labels = np.array(labels)\n",
    "\n",
    "trainFeatures, trainLabels = features[:3450], labels[:3450]\n",
    "testFeatures, testLabels = features[-1150:], labels[-1150:]\n",
    "print trainFeatures.shape, testFeatures.shape"
   ]
  },
  {
   "cell_type": "code",
   "execution_count": 8,
   "metadata": {
    "collapsed": false
   },
   "outputs": [],
   "source": [
    "class Adaboost:\n",
    "    \"\"\"\n",
    "    D : Dictionnary of weights D[i] = list of m weights\n",
    "    \"\"\"\n",
    "    D = np.empty(0)\n",
    "        \n",
    "    \"\"\"\n",
    "    alpha_list : List of alphas of the Adaboost best h\n",
    "    \"\"\"\n",
    "    alpha_list = np.empty(0)\n",
    "    \n",
    "    \"\"\"\n",
    "    h_list : List of h_t best classifiers selected\n",
    "    \"\"\"\n",
    "    h_list = np.empty(0)\n",
    "    \n",
    "    \"\"\"\n",
    "    T : number of iterations\n",
    "    \"\"\"\n",
    "    T = 0\n",
    "    \n",
    "    \"\"\"\n",
    "    decisionTreeClassifier : Decision tree classifier\n",
    "    \"\"\"\n",
    "    decisionTreeClassifier = 0\n",
    "    \n",
    "    def __init__(self, T):\n",
    "        \n",
    "        self.D = np.empty(0)\n",
    "        self.alphas = np.empty(0)\n",
    "        self.h_t = np.empty(0)\n",
    "        self.T = T\n",
    "        self.decisionTreeClassifier = DecisionTreeClassifier(criterion=\"entropy\", max_depth=1, presort=True)\n",
    "        \n",
    "    def fit(self, trainFeatures, trainLabels):\n",
    "        error_rate = []\n",
    "        feat = []\n",
    "        \n",
    "        \"\"\"\n",
    "        fit Adaboost to the training set, with T iterations.\n",
    "        \"\"\"\n",
    "        \n",
    "        m, n = trainFeatures.shape\n",
    "        \n",
    "        self.D[0] = np.zeros(m)\n",
    "        self.D[0].fill(1.0 / m)\n",
    "\n",
    "        for t in range(self.T):\n",
    "            h_t = self.decisionTreeClassifier.fit(trainFeatures, trainLabels, self.D[t])\n",
    "            \n",
    "            h_t_predict_all = h_t.predict(trainFeatures)\n",
    "            \n",
    "            epsilon_t =  np.where(h_t_predict_all * trainLabels == -1, 1.0, 0) * self.D[t]\n",
    "            epsilon_t = epsilon_t.sum()\n",
    "            \n",
    "            alpha_t = np.log((1 - epsilon_t) / epsilon_t) / 2\n",
    "            Z_t = 2 * np.sqrt(epsilon_t * ( 1 - epsilon_t))\n",
    "                        \n",
    "            self.D[t + 1] =  self.D[t] * np.exp(- alpha_t * trainLabels * h_t_predict_all) / Z_t\n",
    "                            \n",
    "            if len(self.alpha_list) > 0 and self.alpha_list[-1] == alpha_t:\n",
    "                print \" Stoping the training at t = {0}, convergence.\".format(t)\n",
    "                break\n",
    "            \n",
    "            error_rate += [epsilon_t]\n",
    "            feat += [np.argmax(h_t.feature_importances_)]\n",
    "            self.alpha_list = np.append(self.alpha_list, alpha_t)\n",
    "            self.h_list = np.append(self.h_list, copy.copy(h_t))\n",
    "    \n",
    "    def predict(self, x, T):\n",
    "        \"\"\"\n",
    "        Once trained, predict a label given x\n",
    "        T : if we compute adaboost(1000) and we want adaboost(10), it's the 10 first terms of adaboost(1000). Let's use it.\n",
    "        \"\"\"        \n",
    "        scores = np.zeros(x.shape[0])\n",
    "        for i in range(T):\n",
    "            scores = scores + self.alpha_list[i] * self.h_list[i].predict(x)\n",
    "        return np.where(scores > 0, 1, -1)\n",
    "    \n",
    "    def error(self, x, y, T):\n",
    "        \"\"\"\n",
    "        Return the percentage of errors in the prediction.\n",
    "        \"\"\"\n",
    "        return np.where(self.predict(x, T) * y == 1, 0, 1).sum() * 1.0 / x.shape[0]\n",
    "    \n",
    "    def toString(self):\n",
    "        print \"T : {0}, Alphas : {0}\".format(self.T, len(self.alpha_list))"
   ]
  },
  {
   "cell_type": "code",
   "execution_count": 9,
   "metadata": {
    "collapsed": false
   },
   "outputs": [
    {
     "name": "stdout",
     "output_type": "stream",
     "text": [
      " Errors : 0.125217391304\n"
     ]
    }
   ],
   "source": [
    "# Tests :\n",
    "myAdaboost = Adaboost(10)\n",
    "myAdaboost.fit(trainFeatures, trainLabels)\n",
    "print \" Errors : {0}\".format(myAdaboost.error(features, labels, 5))"
   ]
  },
  {
   "cell_type": "code",
   "execution_count": 10,
   "metadata": {
    "collapsed": false
   },
   "outputs": [],
   "source": [
    "from sklearn.cross_validation import KFold\n",
    "\n",
    "kf = KFold(n=trainFeatures.shape[0], n_folds=10, shuffle=True)"
   ]
  },
  {
   "cell_type": "code",
   "execution_count": null,
   "metadata": {
    "collapsed": false
   },
   "outputs": [
    {
     "name": "stdout",
     "output_type": "stream",
     "text": [
      " One KFold.\n",
      " Errors\n",
      " One KFold.\n",
      " Errors\n",
      " One KFold.\n",
      " Errors\n",
      " One KFold.\n",
      " Errors\n",
      " One KFold.\n",
      " Errors\n",
      " One KFold.\n",
      " Errors\n",
      " One KFold.\n",
      " Errors\n"
     ]
    }
   ],
   "source": [
    "Tmax = 10000\n",
    "\n",
    "T_errors = {}\n",
    "for t in range(Tmax):\n",
    "    T_errors[t] = []\n",
    "\n",
    "for train_index, test_index in kf:\n",
    "    print \" One KFold.\"\n",
    "    myAdab = Adaboost(Tmax)\n",
    "    myAdab.fit(trainFeatures[train_index], trainLabels[train_index])\n",
    "    print \" Errors\"\n",
    "    for t in range(0, Tmax, 5):\n",
    "        T_errors[t] += [myAdab.error(trainFeatures[test_index], trainLabels[test_index], t)]"
   ]
  },
  {
   "cell_type": "code",
   "execution_count": 19,
   "metadata": {
    "collapsed": false
   },
   "outputs": [
    {
     "data": {
      "image/png": "[encoded data removed]",
      "text/plain": [
       "<matplotlib.figure.Figure at 0x10fe40510>"
      ]
     },
     "metadata": {},
     "output_type": "display_data"
    }
   ],
   "source": [
    "error_plus = []\n",
    "error_mean = []\n",
    "error_minus = []\n",
    "log_t = np.log10(T_errors.keys())\n",
    "\n",
    "for t in T_errors.keys():\n",
    "    array = np.array(T_errors[t])\n",
    "    mean = array.mean()\n",
    "    stddout = array.std()\n",
    "    error_plus += [mean + stddout]\n",
    "    error_mean += [mean]\n",
    "    error_minus += [mean - stddout]\n",
    "\n",
    "plt.figure(figsize=(8,8))\n",
    "plt.title(\"Error function of T, cross validation\")\n",
    "plt.xlabel(\"T ( log scale )\")\n",
    "plt.ylabel(\"Error\")\n",
    "plt.plot(log_t,error_plus, \"k-+\", label=\"mean(error) + std\")\n",
    "plt.plot(log_t,error_mean, \"r\", label=\"mean(error)\")\n",
    "plt.plot(log_t,error_minus, \"k--\", label=\"mean(error) - std\")\n",
    "plt.show()"
   ]
  },
  {
   "cell_type": "code",
   "execution_count": 15,
   "metadata": {
    "collapsed": false
   },
   "outputs": [
    {
     "name": "stdout",
     "output_type": "stream",
     "text": [
      " Fitting ... \n",
      " Computing errors ...\n"
     ]
    }
   ],
   "source": [
    "k = 3\n",
    "Ts = [i for i in range(1, 10**k + 1)]\n",
    "\n",
    "Train_error = []\n",
    "Test_error = []\n",
    "print \" Fitting ... \"\n",
    "adaboost = Adaboost(Ts[-1])\n",
    "adaboost.fit(trainFeatures, trainLabels)\n",
    "print \" Computing errors ...\"  \n",
    "for T in Ts:\n",
    "    Train_error += [adaboost.error(trainFeatures, trainLabels, T)]\n",
    "    Test_error += [adaboost.error(testFeatures, testLabels, T)]"
   ]
  },
  {
   "cell_type": "code",
   "execution_count": 16,
   "metadata": {
    "collapsed": false
   },
   "outputs": [
    {
     "data": {
      "image/png": "[encoded data removed]",
      "text/plain": [
       "<matplotlib.figure.Figure at 0x10ef89850>"
      ]
     },
     "metadata": {},
     "output_type": "display_data"
    }
   ],
   "source": [
    "from matplotlib.legend_handler import HandlerLine2D\n",
    "\n",
    "log_t = np.log10(Ts)\n",
    "plt.figure(figsize=(8,8))\n",
    "plt.title(\"Error =  f(T)\")\n",
    "plt.xlabel(\"T ( log scale )\")\n",
    "plt.ylabel(\"Error\")\n",
    "line1 = plt.plot(log_t, Train_error, \"k-+\", label=\"Train error\")\n",
    "l2 = plt.plot(log_t, Test_error, \"r\", label=\"Test error\")\n",
    "plt.show()"
   ]
  },
  {
   "cell_type": "code",
   "execution_count": null,
   "metadata": {
    "collapsed": false
   },
   "outputs": [],
   "source": []
  },
  {
   "cell_type": "code",
   "execution_count": null,
   "metadata": {
    "collapsed": false
   },
   "outputs": [],
   "source": []
  },
  {
   "cell_type": "code",
   "execution_count": null,
   "metadata": {
    "collapsed": false
   },
   "outputs": [],
   "source": []
  },
  {
   "cell_type": "code",
   "execution_count": null,
   "metadata": {
    "collapsed": true
   },
   "outputs": [],
   "source": []
  }
 ],
 "metadata": {
  "anaconda-cloud": {},
  "kernelspec": {
   "display_name": "Python [Root]",
   "language": "python",
   "name": "Python [Root]"
  },
  "language_info": {
   "codemirror_mode": {
    "name": "ipython",
    "version": 2
   },
   "file_extension": ".py",
   "mimetype": "text/x-python",
   "name": "python",
   "nbconvert_exporter": "python",
   "pygments_lexer": "ipython2",
   "version": "2.7.12"
  }
 },
 "nbformat": 4,
 "nbformat_minor": 0
}
